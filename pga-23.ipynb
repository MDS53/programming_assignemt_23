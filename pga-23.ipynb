{
 "cells": [
  {
   "cell_type": "markdown",
   "id": "58900485",
   "metadata": {},
   "source": [
    "### Question 1\n",
    "Create a function that takes a number as an argument and returns True or False depending on whether the number is symmetrical or not. A number is symmetrical when it is the same as its reverse.\n",
    "\n",
    "Examples\n",
    "\n",
    "is_symmetrical(7227) ➞ True\n",
    "\n",
    "is_symmetrical(12567) ➞ False\n",
    "\n",
    "is_symmetrical(44444444) ➞ True\n",
    "\n",
    "is_symmetrical(9939) ➞ False\n",
    "\n",
    "is_symmetrical(1112111) ➞ True\n"
   ]
  },
  {
   "cell_type": "code",
   "execution_count": 8,
   "id": "ab8fde66",
   "metadata": {},
   "outputs": [],
   "source": [
    "def is_symmetrical(n):\n",
    "    m=str(n)\n",
    "    return str(m)==str(m[::-1])"
   ]
  },
  {
   "cell_type": "code",
   "execution_count": 12,
   "id": "1c9adb5f",
   "metadata": {},
   "outputs": [
    {
     "name": "stdout",
     "output_type": "stream",
     "text": [
      "True\n",
      "False\n",
      "True\n",
      "False\n",
      "True\n"
     ]
    }
   ],
   "source": [
    "print(is_symmetrical(7227))\n",
    "print(is_symmetrical(12567))\n",
    "print(is_symmetrical(44444444))\n",
    "print(is_symmetrical(9939))\n",
    "print(is_symmetrical(1112111))"
   ]
  },
  {
   "cell_type": "markdown",
   "id": "4a79f637",
   "metadata": {},
   "source": [
    "### Question 2\n",
    "Given a string of numbers separated by a comma and space, return the product of the numbers.\n",
    "\n",
    "Examples\n",
    "\n",
    "multiply_nums(\"2, 3\") ➞ 6\n",
    "\n",
    "multiply_nums(\"1, 2, 3, 4\") ➞ 24\n",
    "\n",
    "multiply_nums(\"54, 75, 453, 0\") ➞ 0\n",
    "\n",
    "multiply_nums(\"10, -2\") ➞ -20\n"
   ]
  },
  {
   "cell_type": "code",
   "execution_count": 14,
   "id": "8f5e1026",
   "metadata": {},
   "outputs": [],
   "source": [
    "def multiply_nums(n):\n",
    "    k=n.split(sep=\",\")\n",
    "    m=1\n",
    "    for i in k:\n",
    "        m=m*int(i) \n",
    "    return m"
   ]
  },
  {
   "cell_type": "code",
   "execution_count": 16,
   "id": "30930e55",
   "metadata": {},
   "outputs": [
    {
     "name": "stdout",
     "output_type": "stream",
     "text": [
      "24\n",
      "6\n",
      "24\n",
      "0\n",
      "-20\n"
     ]
    }
   ],
   "source": [
    "print(multiply_nums(\"2,3,4\"))\n",
    "print(multiply_nums(\"2,3\"))\n",
    "print(multiply_nums(\"1,2,3,4\"))\n",
    "print(multiply_nums(\"54,75,453,0\"))\n",
    "print(multiply_nums(\"10,-2\"))"
   ]
  },
  {
   "cell_type": "markdown",
   "id": "a7ceaa7e",
   "metadata": {},
   "source": [
    "### Question 3\n",
    "\n",
    "Create a function that squares every digit of a number.\n",
    "\n",
    "Examples\n",
    "\n",
    "square_digits(9119) ➞ 811181\n",
    "\n",
    "square_digits(2483) ➞ 416649\n",
    "\n",
    "square_digits(3212) ➞ 9414\n",
    "\n",
    "Notes\n",
    "\n",
    "The function receives an integer and must return an integer\n"
   ]
  },
  {
   "cell_type": "code",
   "execution_count": 24,
   "id": "e9ca0d61",
   "metadata": {},
   "outputs": [],
   "source": [
    "def square_digits(n):\n",
    "    l=str(n)\n",
    "    t=\"\"\n",
    "    for i in l:\n",
    "        t+=str(int(i)*int(i))\n",
    "    return int(t)"
   ]
  },
  {
   "cell_type": "code",
   "execution_count": 23,
   "id": "c533eddb",
   "metadata": {},
   "outputs": [
    {
     "name": "stdout",
     "output_type": "stream",
     "text": [
      "811181\n",
      "416649\n",
      "9414\n",
      "44\n"
     ]
    }
   ],
   "source": [
    "print(square_digits(9119))\n",
    "print(square_digits(2483))\n",
    "print(square_digits(3212))\n",
    "print(square_digits(22))"
   ]
  },
  {
   "cell_type": "markdown",
   "id": "d5f2170a",
   "metadata": {},
   "source": [
    "### Question 4\n",
    "Create a function that sorts a list and removes all duplicate items from it.\n",
    "\n",
    "Examples\n",
    "\n",
    "setify([1, 3, 3, 5, 5]) ➞ [1, 3, 5]\n",
    "\n",
    "setify([4, 4, 4, 4]) ➞ [4]\n",
    "\n",
    "setify([5, 7, 8, 9, 10, 15]) ➞ [5, 7, 8, 9, 10, 15]\n",
    "\n",
    "setify([3, 3, 3, 2, 1]) ➞ [1, 2, 3]\n"
   ]
  },
  {
   "cell_type": "code",
   "execution_count": 27,
   "id": "659782f6",
   "metadata": {},
   "outputs": [],
   "source": [
    "def setify(n):\n",
    "    return list(sorted(set(n)))"
   ]
  },
  {
   "cell_type": "code",
   "execution_count": 28,
   "id": "47e269e9",
   "metadata": {},
   "outputs": [
    {
     "name": "stdout",
     "output_type": "stream",
     "text": [
      "[1, 3, 5]\n",
      "[4]\n",
      "[5, 7, 8, 9, 10, 15]\n",
      "[1, 2, 3]\n"
     ]
    }
   ],
   "source": [
    "print(setify([1, 3, 3, 5, 5]))\n",
    "print(setify([4,4,4,4,4]))\n",
    "print(setify([5, 7, 8, 9, 10, 15]))\n",
    "print(setify([3, 3, 3, 2, 1]))"
   ]
  },
  {
   "cell_type": "markdown",
   "id": "c5eb12b6",
   "metadata": {},
   "source": [
    "### Question 5\n",
    "Create a function that returns the mean of all digits.\n",
    "\n",
    "Examples\n",
    "\n",
    "mean(42) ➞ 3\n",
    "\n",
    "mean(12345) ➞ 3\n",
    "\n",
    "mean(666) ➞ 6\n",
    "\n",
    "Notes\n",
    "\n",
    "•\tThe mean of all digits is the sum of digits / how many digits there are (e.g. mean of digits in 512 is (5+1+2)/3(number of digits) = 8/3=2).\n",
    "\n",
    "•\tThe mean will always be an integer.\n"
   ]
  },
  {
   "cell_type": "code",
   "execution_count": 34,
   "id": "6a87a71c",
   "metadata": {},
   "outputs": [
    {
     "name": "stdout",
     "output_type": "stream",
     "text": [
      "3\n",
      "3\n",
      "6\n"
     ]
    }
   ],
   "source": [
    "def mean(n):\n",
    "    l=str(n)\n",
    "    s=0\n",
    "    for i in l:\n",
    "        s+=int(i)\n",
    "    return (s//len(l))\n",
    "print(mean(42))\n",
    "print(mean(12345))\n",
    "print(mean(666))"
   ]
  }
 ],
 "metadata": {
  "kernelspec": {
   "display_name": "Python 3 (ipykernel)",
   "language": "python",
   "name": "python3"
  },
  "language_info": {
   "codemirror_mode": {
    "name": "ipython",
    "version": 3
   },
   "file_extension": ".py",
   "mimetype": "text/x-python",
   "name": "python",
   "nbconvert_exporter": "python",
   "pygments_lexer": "ipython3",
   "version": "3.9.13"
  }
 },
 "nbformat": 4,
 "nbformat_minor": 5
}
